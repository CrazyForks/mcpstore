{
 "cells": [
  {
   "cell_type": "markdown",
   "metadata": {},
   "source": [
    "# MCPStore 功能测试 Notebook\n",
    "\n",
    "这个 Jupyter Notebook 基于 `同步测试plus.py` 重构，提供交互式的 MCPStore 功能测试环境。\n",
    "\n",
    "## 📋 测试覆盖范围\n",
    "\n",
    "- ✅ **基础功能测试**: Store初始化、服务注册、工具列表\n",
    "- ✅ **服务状态管理**: 健康检查、状态查询、服务重启\n",
    "- ✅ **高级服务管理**: 配置更新、批量操作、服务详情\n",
    "- ✅ **Agent模式测试**: Agent隔离、专属服务、上下文切换\n",
    "- ✅ **配置管理**: 统一配置、重置操作、默认配置恢复\n",
    "- ✅ **工具执行**: 地图工具、思维工具、参数测试\n",
    "- ✅ **批量操作**: 批量添加、删除服务\n",
    "- ✅ **错误处理**: 异常场景、无效配置测试\n",
    "\n",
    "## 🚀 开始测试\n",
    "\n",
    "每个单元格都是独立的测试，可以单独运行。按顺序执行或选择特定测试。"
   ]
  },
  {
   "cell_type": "markdown",
   "metadata": {},
   "source": [
    "## 1. 环境准备"
   ]
  },
  {
   "cell_type": "code",
   "metadata": {
    "jupyter": {
     "is_executing": true
    }
   },
   "source": [
    "# 导入必要的库\n",
    "import time\n",
    "import json\n",
    "import sys\n",
    "from datetime import datetime\n",
    "\n",
    "# 添加项目路径\n",
    "sys.path.append('src')\n",
    "from mcpstore.jupyter_helper import setup_mcpstore, add_service, list_tools, use_tool\n",
    "from mcpstore import MCPStore\n",
    "\n",
    "print(\"🚀 MCPStore 测试环境已准备就绪!\")\n",
    "print(f\"📅 测试时间: {datetime.now().strftime('%Y-%m-%d %H:%M:%S')}\")\n",
    "print(\"📝 每个单元格都是独立的测试，可以单独运行\")"
   ],
   "outputs": [],
   "execution_count": null
  },
  {
   "cell_type": "markdown",
   "metadata": {},
   "source": [
    "## 2. 初始化 MCPStore"
   ]
  },
  {
   "cell_type": "code",
   "metadata": {
    "ExecuteTime": {
     "end_time": "2025-06-29T01:08:51.655794Z",
     "start_time": "2025-06-29T01:08:51.650231Z"
    }
   },
   "source": [
    "# 初始化 MCPStore\n",
    "print(\"🔍 初始化 MCPStore\")\n",
    "print(\"=\"*50)\n",
    "\n",
    "\n",
    "store = MCPStore.setup_store()\n",
    "print(\"✅ Store 初始化成功\")\n",
    "print(f\"📦 Store 类型: {type(store).__name__}\")\n"
   ],
   "outputs": [
    {
     "name": "stdout",
     "output_type": "stream",
     "text": [
      "🔍 初始化 MCPStore\n",
      "==================================================\n",
      "✅ Store 初始化成功\n",
      "📦 Store 类型: MCPStore\n"
     ]
    }
   ],
   "execution_count": 2
  },
  {
   "cell_type": "markdown",
   "metadata": {},
   "source": [
    "## 3. 查看当前配置"
   ]
  },
  {
   "cell_type": "code",
   "metadata": {
    "ExecuteTime": {
     "end_time": "2025-06-29T01:08:55.961680Z",
     "start_time": "2025-06-29T01:08:55.957116Z"
    }
   },
   "source": [
    "# 查看当前 MCP 配置\n",
    "print(\"🔍 查看当前 MCP 配置\")\n",
    "print(\"=\"*50)\n",
    "\n",
    "config = store.for_store().show_mcpconfig()\n",
    "server_count = len(config.get('mcpServers', {}))\n",
    "print(f\"✅ 获取配置成功，找到 {server_count} 个配置项\")\n",
    "\n",
    "# 显示配置详情\n",
    "if server_count > 0:\n",
    "    print(\"\\n📋 配置的服务:\")\n",
    "    for i, (name, conf) in enumerate(config.get('mcpServers', {}).items()):\n",
    "        if i >= 5:  # 只显示前5个\n",
    "            print(f\"   ... 还有 {server_count - 5} 个服务\")\n",
    "            break\n",
    "        service_type = \"URL\" if conf.get('url') else \"Command\"\n",
    "        print(f\"   • {name} ({service_type})\")\n",
    "        if conf.get('url'):\n",
    "            print(f\"     URL: {conf['url'][:50]}...\" if len(conf['url']) > 50 else f\"     URL: {conf['url']}\")\n",
    "        elif conf.get('command'):\n",
    "            print(f\"     Command: {conf['command']}\")"
   ],
   "outputs": [
    {
     "name": "stdout",
     "output_type": "stream",
     "text": [
      "🔍 查看当前 MCP 配置\n",
      "==================================================\n",
      "✅ 获取配置成功，找到 3 个配置项\n",
      "\n",
      "📋 配置的服务:\n",
      "   • mcpstore-demo-weather (URL)\n",
      "     URL: http://59.110.160.18:21923/mcp\n",
      "   • agent_exclusive_service (URL)\n",
      "     URL: http://59.110.160.18:21923/mcp\n",
      "   • analysis_service (URL)\n",
      "     URL: http://59.110.160.18:21923/mcp\n"
     ]
    }
   ],
   "execution_count": 3
  },
  {
   "cell_type": "markdown",
   "metadata": {},
   "source": [
    "## 4. 注册服务"
   ]
  },
  {
   "metadata": {
    "ExecuteTime": {
     "end_time": "2025-06-29T01:09:00.601440Z",
     "start_time": "2025-06-29T01:09:00.596531Z"
    }
   },
   "cell_type": "code",
   "source": [
    "# 注册配置文件中的所有服务\n",
    "print(\"🔍 注册配置文件中的服务\")\n",
    "print(\"=\"*50)\n",
    "services_before = store.for_store().list_services()\n",
    "print(f\"📊 注册前服务数量: {len(services_before)}\")"
   ],
   "outputs": [
    {
     "name": "stdout",
     "output_type": "stream",
     "text": [
      "🔍 注册配置文件中的服务\n",
      "==================================================\n",
      "📊 注册前服务数量: 0\n"
     ]
    }
   ],
   "execution_count": 4
  },
  {
   "metadata": {
    "ExecuteTime": {
     "end_time": "2025-06-29T01:09:09.003165Z",
     "start_time": "2025-06-29T01:09:03.477097Z"
    }
   },
   "cell_type": "code",
   "source": [
    "\n",
    "start_time = time.time()\n",
    "store.for_store().add_service()  # 注册所有配置的服务\n",
    "elapsed = time.time() - start_time\n",
    "print(f\"✅ 服务注册成功，耗时 {elapsed:.3f}s\")"
   ],
   "outputs": [
    {
     "name": "stdout",
     "output_type": "stream",
     "text": [
      "[INFO][add_service] 当前模式: STORE, agent_id: main_client\n",
      "[INFO][add_service] STORE模式-全量注册所有服务\n",
      "[INFO][register_json_service] 默认全量注册\n",
      "[DEBUG][add_service] 首次注册服务 - agent_id=client_20250629090903_mo2g5n, name=mcpstore-demo-weather\n",
      "[INFO][register_json_service] 成功注册服务: mcpstore-demo-weather\n",
      "[DEBUG][add_service] 首次注册服务 - agent_id=client_20250629090904_v4ggzq, name=agent_exclusive_service\n",
      "[INFO][register_json_service] 成功注册服务: agent_exclusive_service\n",
      "[DEBUG][add_service] 首次注册服务 - agent_id=client_20250629090906_p54gfr, name=analysis_service\n",
      "[INFO][register_json_service] 成功注册服务: analysis_service\n",
      "[INFO][add_service] 注册结果: success=True message=None client_id='main_client' service_names=['mcpstore-demo-weather', 'agent_exclusive_service', 'analysis_service'] config={'client_ids': ['client_20250629090903_mo2g5n', 'client_20250629090904_v4ggzq', 'client_20250629090906_p54gfr'], 'services': ['mcpstore-demo-weather', 'agent_exclusive_service', 'analysis_service']}\n",
      "✅ 服务注册成功，耗时 5.523s\n"
     ]
    }
   ],
   "execution_count": 5
  },
  {
   "metadata": {
    "ExecuteTime": {
     "end_time": "2025-06-29T01:09:14.883247Z",
     "start_time": "2025-06-29T01:09:12.902440Z"
    }
   },
   "cell_type": "code",
   "source": [
    "\n",
    "# 注册后的服务数量\n",
    "services_after = store.for_store().list_services()\n",
    "print(f\"📊 注册后服务数量: {len(services_after)}\")\n",
    "print(f\"📈 新增服务数量: {len(services_after) - len(services_before)}\")\n",
    "\n",
    "# 显示新注册的服务\n",
    "if len(services_after) > len(services_before):\n",
    "    print(\"\\n🆕 新注册的服务:\")\n",
    "    before_names = {s.name for s in services_before}\n",
    "    for service in services_after:\n",
    "        if service.name not in before_names:\n",
    "            print(f\"   • {service.name} ({service.status})\")\n"
   ],
   "outputs": [
    {
     "name": "stdout",
     "output_type": "stream",
     "text": [
      "📊 注册后服务数量: 3\n",
      "📈 新增服务数量: 3\n",
      "\n",
      "🆕 新注册的服务:\n",
      "   • mcpstore-demo-weather (healthy)\n",
      "   • agent_exclusive_service (healthy)\n",
      "   • analysis_service (healthy)\n"
     ]
    }
   ],
   "execution_count": 6
  },
  {
   "cell_type": "markdown",
   "metadata": {},
   "source": [
    "## 5. 获取服务列表"
   ]
  },
  {
   "cell_type": "code",
   "metadata": {
    "ExecuteTime": {
     "end_time": "2025-06-29T01:11:35.095202Z",
     "start_time": "2025-06-29T01:11:30.870489Z"
    }
   },
   "source": [
    "# 获取当前所有服务列表\n",
    "print(\"🔍 获取服务列表\")\n",
    "print(\"=\"*50)\n",
    "\n",
    "\n",
    "start_time = time.time()\n",
    "services = store.for_store().list_services()\n",
    "elapsed = time.time() - start_time\n",
    "\n",
    "print(f\"✅ 获取服务列表成功，找到 {len(services)} 个服务\")\n",
    "print(f\"⏱️ 耗时: {elapsed:.3f}s\")"
   ],
   "outputs": [
    {
     "name": "stdout",
     "output_type": "stream",
     "text": [
      "🔍 获取服务列表\n",
      "==================================================\n",
      "✅ 获取服务列表成功，找到 3 个服务\n",
      "⏱️ 耗时: 4.221s\n"
     ]
    }
   ],
   "execution_count": 7
  },
  {
   "metadata": {
    "ExecuteTime": {
     "end_time": "2025-06-29T01:11:36.841085Z",
     "start_time": "2025-06-29T01:11:36.836581Z"
    }
   },
   "cell_type": "code",
   "source": [
    "\n",
    "print(\"\\n📋 服务详情:\")\n",
    "healthy_count = 0\n",
    "for i, service in enumerate(services):\n",
    "    if i >= 10:  # 只显示前10个\n",
    "        print(f\"   ... 还有 {len(services) - 10} 个服务\")\n",
    "        break\n",
    "    \n",
    "    status_icon = \"✅\" if service.status == \"healthy\" else \"❌\"\n",
    "    if service.status == \"healthy\":\n",
    "        healthy_count += 1\n",
    "    \n",
    "    print(f\"   {status_icon} {service.name}\")\n",
    "    print(f\"      状态: {service.status}\")\n",
    "    print(f\"      工具数: {service.tool_count}\")\n",
    "    print(f\"      传输类型: {service.transport_type}\")\n",
    "    if hasattr(service, 'url') and service.url:\n",
    "        url_display = service.url[:50] + \"...\" if len(service.url) > 50 else service.url\n",
    "        print(f\"      URL: {url_display}\")\n",
    "    print(f\"📊 健康服务: {healthy_count}/{len(services)}\")"
   ],
   "outputs": [
    {
     "name": "stdout",
     "output_type": "stream",
     "text": [
      "\n",
      "📋 服务详情:\n",
      "   ✅ mcpstore-demo-weather\n",
      "      状态: healthy\n",
      "      工具数: 4\n",
      "      传输类型: TransportType.STREAMABLE_HTTP\n",
      "      URL: http://59.110.160.18:21923/mcp\n",
      "📊 健康服务: 1/3\n",
      "   ✅ agent_exclusive_service\n",
      "      状态: healthy\n",
      "      工具数: 4\n",
      "      传输类型: TransportType.STREAMABLE_HTTP\n",
      "      URL: http://59.110.160.18:21923/mcp\n",
      "📊 健康服务: 2/3\n",
      "   ✅ analysis_service\n",
      "      状态: healthy\n",
      "      工具数: 4\n",
      "      传输类型: TransportType.STREAMABLE_HTTP\n",
      "      URL: http://59.110.160.18:21923/mcp\n",
      "📊 健康服务: 3/3\n"
     ]
    }
   ],
   "execution_count": 8
  },
  {
   "cell_type": "markdown",
   "metadata": {},
   "source": [
    "## 6. 获取工具列表"
   ]
  },
  {
   "cell_type": "code",
   "metadata": {
    "ExecuteTime": {
     "end_time": "2025-06-29T01:11:44.314526Z",
     "start_time": "2025-06-29T01:11:44.310507Z"
    }
   },
   "source": [
    "# 获取当前所有工具列表\n",
    "print(\"🔍 获取工具列表\")\n",
    "print(\"=\"*50)\n",
    "\n",
    "\n",
    "start_time = time.time()\n",
    "tools = store.for_store().list_tools()\n",
    "elapsed = time.time() - start_time\n",
    "\n",
    "print(f\"✅ 获取工具列表成功，找到 {len(tools)} 个工具\")\n",
    "print(f\"⏱️ 耗时: {elapsed:.3f}s\")\n",
    "        "
   ],
   "outputs": [
    {
     "name": "stdout",
     "output_type": "stream",
     "text": [
      "🔍 获取工具列表\n",
      "==================================================\n",
      "✅ 获取工具列表成功，找到 12 个工具\n",
      "⏱️ 耗时: 0.001s\n"
     ]
    }
   ],
   "execution_count": 9
  },
  {
   "metadata": {
    "ExecuteTime": {
     "end_time": "2025-06-29T01:11:48.680625Z",
     "start_time": "2025-06-29T01:11:48.676202Z"
    }
   },
   "cell_type": "code",
   "source": [
    "if tools:\n",
    "    # 按服务分类工具\n",
    "    tool_services = {}\n",
    "    for tool in tools:\n",
    "        service = tool.service_name\n",
    "        if service not in tool_services:\n",
    "            tool_services[service] = []\n",
    "        tool_services[service].append(tool)\n",
    "    \n",
    "    print(f\"\\n📊 工具分布 (共 {len(tool_services)} 个服务):\")\n",
    "    for service, service_tools in list(tool_services.items()): \n",
    "        print(f\"\\n🔧 {service} ({len(service_tools)} 个工具):\")\n",
    "        for i, tool in enumerate(service_tools):  \n",
    "            print(f\"   • {tool.name}\")\n",
    "            if tool.description:\n",
    "                desc = tool.description[:60] + \"...\" if len(tool.description) > 60 else tool.description\n",
    "                print(f\"     描述: {desc}\")\n",
    "else:\n",
    "    print(\"⚠️ 没有找到任何工具\")\n",
    "    "
   ],
   "outputs": [
    {
     "name": "stdout",
     "output_type": "stream",
     "text": [
      "\n",
      "📊 工具分布 (共 3 个服务):\n",
      "\n",
      "🔧 mcpstore-demo-weather (4 个工具):\n",
      "   • mcpstore-demo-weather_get_current_weather\n",
      "     描述: 获取指定城市的当前天气信息，包括温度和天气状况\n",
      "   • mcpstore-demo-weather_get_weather_forecast\n",
      "     描述: 获取指定城市未来几天的天气预报，默认3天\n",
      "   • mcpstore-demo-weather_get_air_quality\n",
      "     描述: 获取指定城市的空气质量指数(AQI)信息\n",
      "   • mcpstore-demo-weather_search_weather\n",
      "     描述: 搜索天气相关信息\n",
      "\n",
      "🔧 agent_exclusive_service (4 个工具):\n",
      "   • agent_exclusive_service_get_current_weather\n",
      "     描述: 获取指定城市的当前天气信息，包括温度和天气状况\n",
      "   • agent_exclusive_service_get_weather_forecast\n",
      "     描述: 获取指定城市未来几天的天气预报，默认3天\n",
      "   • agent_exclusive_service_get_air_quality\n",
      "     描述: 获取指定城市的空气质量指数(AQI)信息\n",
      "   • agent_exclusive_service_search_weather\n",
      "     描述: 搜索天气相关信息\n",
      "\n",
      "🔧 analysis_service (4 个工具):\n",
      "   • analysis_service_get_current_weather\n",
      "     描述: 获取指定城市的当前天气信息，包括温度和天气状况\n",
      "   • analysis_service_get_weather_forecast\n",
      "     描述: 获取指定城市未来几天的天气预报，默认3天\n",
      "   • analysis_service_get_air_quality\n",
      "     描述: 获取指定城市的空气质量指数(AQI)信息\n",
      "   • analysis_service_search_weather\n",
      "     描述: 搜索天气相关信息\n"
     ]
    }
   ],
   "execution_count": 10
  },
  {
   "cell_type": "markdown",
   "metadata": {},
   "source": [
    "## 7. 服务健康检查"
   ]
  },
  {
   "cell_type": "code",
   "metadata": {
    "ExecuteTime": {
     "end_time": "2025-06-29T01:11:58.582831Z",
     "start_time": "2025-06-29T01:11:55.235661Z"
    }
   },
   "source": [
    "# 执行服务健康检查\n",
    "print(\"🔍 服务健康检查\")\n",
    "print(\"=\"*50)\n",
    "\n",
    "start_time = time.time()\n",
    "health_status = store.for_store().check_services()\n",
    "elapsed = time.time() - start_time\n",
    "print(health_status)"
   ],
   "outputs": [
    {
     "name": "stdout",
     "output_type": "stream",
     "text": [
      "🔍 服务健康检查\n",
      "==================================================\n",
      "{'orchestrator_status': 'running', 'active_services': 3, 'services': [{'name': 'mcpstore-demo-weather', 'url': 'http://59.110.160.18:21923/mcp', 'transport_type': 'streamable-http', 'status': 'healthy', 'command': None, 'args': None, 'package_name': None}, {'name': 'agent_exclusive_service', 'url': 'http://59.110.160.18:21923/mcp', 'transport_type': '', 'status': 'healthy', 'command': None, 'args': None, 'package_name': None}, {'name': 'analysis_service', 'url': 'http://59.110.160.18:21923/mcp', 'transport_type': '', 'status': 'healthy', 'command': None, 'args': None, 'package_name': None}]}\n"
     ]
    }
   ],
   "execution_count": 11
  },
  {
   "metadata": {
    "ExecuteTime": {
     "end_time": "2025-06-28T17:21:48.794770Z",
     "start_time": "2025-06-28T17:21:48.790050Z"
    }
   },
   "cell_type": "code",
   "source": [
    "\n",
    "# 从新的数据结构中获取服务列表\n",
    "services_list = health_status.get('services', [])\n",
    "\n",
    "healthy_count = len([s for s in services_list if s.get('status') == 'healthy'])\n",
    "total_count = len(services_list)\n",
    "orchestrator_status = health_status.get('orchestrator_status', 'unknown')\n",
    "\n",
    "print(f\"✅ 健康检查完成 (总控制器状态: {orchestrator_status})\")\n",
    "print(f\"📊 {healthy_count}/{total_count} 服务健康\")\n",
    "print(f\"⏱️ 耗时: {elapsed:.3f}s\")\n",
    "\n",
    "if services_list:\n",
    "    print(\"\\n🏥 健康状态详情:\")\n",
    "    for service in services_list:\n",
    "        # 从服务字典中获取信息\n",
    "        name = service.get('name', 'Unknown')\n",
    "        health = service.get('status', 'unknown')\n",
    "        transport = service.get('transport_type', 'N/A')\n",
    "        \n",
    "        # 根据健康状态选择图标\n",
    "        if health == 'healthy':\n",
    "            icon = \"✅\"\n",
    "        elif health == 'unhealthy':\n",
    "            icon = \"❌\"\n",
    "        else:\n",
    "            icon = \"⚠️\"\n",
    "        \n",
    "        # 打印基本信息\n",
    "        print(f\"   {icon} {name}\")\n",
    "        print(f\"      状态: {health}\")\n",
    "        print(f\"      传输类型: {transport}\")\n",
    "        \n",
    "        # 根据传输类型打印连接详情\n",
    "        if transport == 'stdio':\n",
    "            command = service.get('command', '')\n",
    "            args = ' '.join(service.get('args', []))\n",
    "            print(f\"      命令: {command} {args}\")\n",
    "        elif service.get('url'):\n",
    "            url = service.get('url')\n",
    "            print(f\"      URL: {url}\")\n",
    "        \n",
    "        print() # 打印一个空行以分隔条目\n",
    "else:\n",
    "    print(\"⚠️ 没有找到任何服务进行健康检查\")"
   ],
   "outputs": [
    {
     "name": "stdout",
     "output_type": "stream",
     "text": [
      "✅ 健康检查完成 (总控制器状态: running)\n",
      "📊 3/3 服务健康\n",
      "⏱️ 耗时: 1.075s\n",
      "\n",
      "🏥 健康状态详情:\n",
      "   ✅ mcpstore-demo-weather\n",
      "      状态: healthy\n",
      "      传输类型: streamable-http\n",
      "      URL: http://59.110.160.18:21923/mcp\n",
      "\n",
      "   ✅ agent_exclusive_service\n",
      "      状态: healthy\n",
      "      传输类型: \n",
      "      URL: http://59.110.160.18:21923/mcp\n",
      "\n",
      "   ✅ analysis_service\n",
      "      状态: healthy\n",
      "      传输类型: \n",
      "      URL: http://59.110.160.18:21923/mcp\n",
      "\n"
     ]
    }
   ],
   "execution_count": 12
  },
  {
   "cell_type": "markdown",
   "metadata": {},
   "source": [
    "## 8. 单个服务状态查询"
   ]
  },
  {
   "cell_type": "code",
   "metadata": {
    "ExecuteTime": {
     "end_time": "2025-06-28T17:21:50.005034Z",
     "start_time": "2025-06-28T17:21:48.805656Z"
    }
   },
   "source": [
    "# 查询单个服务的详细状态\n",
    "print(\"🔍 单个服务状态查询\")\n",
    "print(\"=\"*50)\n",
    "services = store.for_store().list_services()\n",
    "if services:\n",
    "    test_service = services[0]\n",
    "    service_name = test_service.name\n",
    "    print(f\"🎯 测试服务: {service_name}\")\n",
    "    "
   ],
   "outputs": [
    {
     "name": "stdout",
     "output_type": "stream",
     "text": [
      "🔍 单个服务状态查询\n",
      "==================================================\n",
      "🎯 测试服务: mcpstore-demo-weather\n"
     ]
    }
   ],
   "execution_count": 13
  },
  {
   "metadata": {
    "ExecuteTime": {
     "end_time": "2025-06-28T17:21:50.358334Z",
     "start_time": "2025-06-28T17:21:50.010877Z"
    }
   },
   "cell_type": "code",
   "source": [
    "\n",
    "status = store.for_store().get_service_status(service_name)\n",
    "print(\"✅ 获取服务状态成功\")\n",
    "\n",
    "print(\"\\n📋 服务状态详情:\")\n",
    "for key, value in status.items():\n",
    "    print(f\"   • {key}: {value}\")\n",
    "\n",
    "# 验证必要字段\n",
    "expected_fields = ['name', 'status', 'connected', 'tool_count']\n",
    "print(\"\\n🔍 字段完整性检查:\")\n",
    "for field in expected_fields:\n",
    "    if field in status:\n",
    "        print(f\"   ✅ {field}: 存在\")\n",
    "    else:\n",
    "        print(f\"   ❌ {field}: 缺失\")\n"
   ],
   "outputs": [
    {
     "name": "stdout",
     "output_type": "stream",
     "text": [
      "[INFO][get_service_info] STORE模式-在main_client中查找服务: mcpstore-demo-weather\n",
      "✅ 获取服务状态成功\n",
      "\n",
      "📋 服务状态详情:\n",
      "   • name: mcpstore-demo-weather\n",
      "   • status: healthy\n",
      "   • connected: True\n",
      "   • tool_count: 4\n",
      "   • last_heartbeat: 2025-06-29 01:21:43.781482\n",
      "   • transport_type: TransportType.STREAMABLE_HTTP\n",
      "\n",
      "🔍 字段完整性检查:\n",
      "   ✅ name: 存在\n",
      "   ✅ status: 存在\n",
      "   ✅ connected: 存在\n",
      "   ✅ tool_count: 存在\n"
     ]
    }
   ],
   "execution_count": 14
  },
  {
   "metadata": {
    "ExecuteTime": {
     "end_time": "2025-06-28T17:21:51.087303Z",
     "start_time": "2025-06-28T17:21:50.363687Z"
    }
   },
   "cell_type": "code",
   "source": [
    "\n",
    "# 测试无效服务名\n",
    "print(\"\\n🔍 测试无效服务名:\")\n",
    "try:\n",
    "    invalid_status = store.for_store().get_service_status(\"nonexistent_service_12345\")\n",
    "    print(f\"⚠️ 意外成功: {invalid_status}\")\n",
    "except Exception as e:\n",
    "    print(f\"✅ 预期错误: {type(e).__name__} - {e}\")\n",
    "\n",
    "    \n"
   ],
   "outputs": [
    {
     "name": "stdout",
     "output_type": "stream",
     "text": [
      "\n",
      "🔍 测试无效服务名:\n",
      "[INFO][get_service_info] STORE模式-在main_client中查找服务: nonexistent_service_12345\n",
      "⚠️ 意外成功: {'name': 'nonexistent_service_12345', 'status': 'not_found', 'connected': False, 'tool_count': 0, 'last_heartbeat': None, 'transport_type': None}\n"
     ]
    }
   ],
   "execution_count": 15
  },
  {
   "cell_type": "markdown",
   "metadata": {},
   "source": [
    "## 9. Agent 模式测试 - 创建 Agent"
   ]
  },
  {
   "cell_type": "code",
   "metadata": {
    "ExecuteTime": {
     "end_time": "2025-06-28T17:21:52.028549Z",
     "start_time": "2025-06-28T17:21:51.094136Z"
    }
   },
   "source": [
    "# 测试 Agent 模式 - 创建专属 Agent\n",
    "print(\"🔍 Agent 模式测试 - 创建专属 Agent\")\n",
    "print(\"=\"*50)\n",
    "\n",
    "# 定义测试 Agent\n",
    "test_agent_id = \"test_navigation_agent\"\n",
    "print(f\"🤖 创建测试 Agent: {test_agent_id}\")\n",
    "\n",
    "agent_service_config = {\n",
    "    \"name\": \"agent_exclusive_service\",\n",
    "    \"url\": \"http://59.110.160.18:21923/mcp\"\n",
    "}\n",
    "\n",
    "print(f\"\\n📦 为 Agent 添加专属服务: {agent_service_config['name']}\")\n",
    "store.for_agent(test_agent_id).add_service(agent_service_config)\n",
    "print(\"✅ Agent 专属服务添加成功\")\n"
   ],
   "outputs": [
    {
     "name": "stdout",
     "output_type": "stream",
     "text": [
      "🔍 Agent 模式测试 - 创建专属 Agent\n",
      "==================================================\n",
      "🤖 创建测试 Agent: test_navigation_agent\n",
      "\n",
      "📦 为 Agent 添加专属服务: agent_exclusive_service\n",
      "[INFO][add_service] 当前模式: AGENT, agent_id: test_navigation_agent\n",
      "[INFO][add_service] 成功处理同名服务: agent_exclusive_service\n",
      "[INFO][add_service] 注册服务到Registry，使用client_ids: ['client_20250628234812_fqltj0']\n",
      "[DEBUG][add_service] 首次注册服务 - agent_id=client_20250628234812_fqltj0, name=agent_exclusive_service\n",
      "[INFO][add_service] 成功注册client client_20250628234812_fqltj0 到Registry\n",
      "[INFO][add_service] 服务配置更新和Registry注册完成\n",
      "✅ Agent 专属服务添加成功\n"
     ]
    }
   ],
   "execution_count": 16
  },
  {
   "metadata": {
    "ExecuteTime": {
     "end_time": "2025-06-28T17:21:52.427667Z",
     "start_time": "2025-06-28T17:21:52.034885Z"
    }
   },
   "cell_type": "code",
   "source": [
    "# 获取 Agent 服务列表\n",
    "agent_services = store.for_agent(test_agent_id).list_services()\n",
    "print(f\"✅ Agent 服务列表: {len(agent_services)} 个服务\")\n",
    "\n",
    "if agent_services:\n",
    "    print(\"\\n📋 Agent 专属服务:\")\n",
    "    for service in agent_services:\n",
    "        print(f\"   • {service.name} ({service.status})\")"
   ],
   "outputs": [
    {
     "name": "stdout",
     "output_type": "stream",
     "text": [
      "✅ Agent 服务列表: 1 个服务\n",
      "\n",
      "📋 Agent 专属服务:\n",
      "   • agent_exclusive_service (healthy)\n"
     ]
    }
   ],
   "execution_count": 17
  },
  {
   "metadata": {
    "ExecuteTime": {
     "end_time": "2025-06-28T17:21:52.448947Z",
     "start_time": "2025-06-28T17:21:52.443151Z"
    }
   },
   "cell_type": "code",
   "source": [
    "\n",
    "# 获取 Agent 工具列表\n",
    "agent_tools = store.for_agent(test_agent_id).list_tools()\n",
    "print(f\"✅ Agent 工具列表: {len(agent_tools)} 个工具\")\n",
    "\n",
    "if agent_tools:\n",
    "    print(\"\\n🔧 Agent 专属工具:\")\n",
    "    for tool in agent_tools:  # 显示前3个\n",
    "        print(f\"   • {tool.name}\")\n",
    "        if tool.description:\n",
    "            desc = tool.description[:50] + \"...\" if len(tool.description) > 50 else tool.description\n",
    "            print(f\"     {desc}\")\n"
   ],
   "outputs": [
    {
     "name": "stdout",
     "output_type": "stream",
     "text": [
      "✅ Agent 工具列表: 4 个工具\n",
      "\n",
      "🔧 Agent 专属工具:\n",
      "   • agent_exclusive_service_get_current_weather\n",
      "     获取指定城市的当前天气信息，包括温度和天气状况\n",
      "   • agent_exclusive_service_get_weather_forecast\n",
      "     获取指定城市未来几天的天气预报，默认3天\n",
      "   • agent_exclusive_service_get_air_quality\n",
      "     获取指定城市的空气质量指数(AQI)信息\n",
      "   • agent_exclusive_service_search_weather\n",
      "     搜索天气相关信息\n"
     ]
    }
   ],
   "execution_count": 18
  },
  {
   "cell_type": "markdown",
   "metadata": {},
   "source": [
    "## 10. Agent 上下文隔离验证"
   ]
  },
  {
   "cell_type": "code",
   "metadata": {
    "ExecuteTime": {
     "end_time": "2025-06-28T17:21:53.864598Z",
     "start_time": "2025-06-28T17:21:52.460952Z"
    }
   },
   "source": [
    "# 验证 Agent 和 Store 之间的上下文隔离\n",
    "print(\"🔍 Agent 上下文隔离验证\")\n",
    "print(\"=\"*50)\n",
    "\n",
    "store_services = store.for_store().list_services()\n",
    "store_service_names = {s.name for s in store_services}\n",
    "\n",
    "# 获取 Agent 级别的服务\n",
    "test_agent_id = \"test_navigation_agent\"\n",
    "agent_services = store.for_agent(test_agent_id).list_services()\n",
    "agent_service_names = {s.name for s in agent_services}\n",
    "\n",
    "print(f\"📊 Store 级别服务数量: {len(store_services)}\")\n",
    "print(f\"📊 Agent 级别服务数量: {len(agent_services)}\")\n",
    "\n",
    "# 检查服务名称重叠\n",
    "overlap = store_service_names.intersection(agent_service_names)\n",
    "agent_exclusive = agent_service_names - store_service_names\n",
    "store_exclusive = store_service_names - agent_service_names\n",
    "\n",
    "print(f\"\\n🔍 隔离性分析:\")\n",
    "print(f\"   • 重叠服务: {len(overlap)} 个\")\n",
    "print(f\"   • Agent 专属服务: {len(agent_exclusive)} 个\")\n",
    "print(f\"   • Store 专属服务: {len(store_exclusive)} 个\")\n",
    "\n",
    "if overlap:\n",
    "    print(f\"\\n⚠️ 重叠的服务名称:\")\n",
    "    for name in list(overlap)[:5]:  # 显示前5个\n",
    "        print(f\"   • {name}\")\n",
    "\n",
    "if agent_exclusive:\n",
    "    print(f\"\\n✅ Agent 专属服务:\")\n",
    "    for name in agent_exclusive:\n",
    "        print(f\"   • {name}\")\n",
    "\n",
    "# 验证隔离性\n",
    "if len(agent_exclusive) > 0:\n",
    "    print(\"\\n✅ 上下文隔离正常：Agent 拥有专属服务\")\n",
    "else:\n",
    "    print(\"\\n⚠️ 上下文隔离可能有问题：Agent 没有专属服务\")\n"
   ],
   "outputs": [
    {
     "name": "stdout",
     "output_type": "stream",
     "text": [
      "🔍 Agent 上下文隔离验证\n",
      "==================================================\n",
      "📊 Store 级别服务数量: 3\n",
      "📊 Agent 级别服务数量: 1\n",
      "\n",
      "🔍 隔离性分析:\n",
      "   • 重叠服务: 1 个\n",
      "   • Agent 专属服务: 0 个\n",
      "   • Store 专属服务: 2 个\n",
      "\n",
      "⚠️ 重叠的服务名称:\n",
      "   • agent_exclusive_service\n",
      "\n",
      "⚠️ 上下文隔离可能有问题：Agent 没有专属服务\n"
     ]
    }
   ],
   "execution_count": 19
  },
  {
   "metadata": {
    "ExecuteTime": {
     "end_time": "2025-06-28T17:21:54.965589Z",
     "start_time": "2025-06-28T17:21:53.870615Z"
    }
   },
   "cell_type": "code",
   "source": [
    "# 创建第二个 Agent 进行进一步隔离测试\n",
    "print(f\"\\n🤖 创建第二个 Agent 进行隔离测试\")\n",
    "second_agent_id = \"test_analysis_agent\"\n",
    "\n",
    "# 为第二个 Agent 添加不同的服务\n",
    "second_agent_config = {\n",
    "    \"name\": \"analysis_service\",\n",
    "    \"url\": \"http://59.110.160.18:21923/mcp\"\n",
    "}\n",
    "\n",
    "store.for_agent(second_agent_id).add_service(second_agent_config)\n",
    "second_agent_services = store.for_agent(second_agent_id).list_services()\n",
    "second_agent_names = {s.name for s in second_agent_services}\n",
    "\n",
    "# 检查两个 Agent 之间的隔离\n",
    "agent_to_agent_overlap = agent_service_names.intersection(second_agent_names)\n",
    "\n",
    "print(f\"📊 第二个 Agent 服务数量: {len(second_agent_services)}\")\n",
    "print(f\"🔍 两个 Agent 间重叠服务: {len(agent_to_agent_overlap)} 个\")\n",
    "\n",
    "if len(agent_to_agent_overlap) == 0:\n",
    "    print(\"✅ Agent 间隔离正常：两个 Agent 没有共享服务\")\n",
    "else:\n",
    "    print(f\"⚠️ Agent 间隔离异常：发现 {len(agent_to_agent_overlap)} 个共享服务\")\n"
   ],
   "outputs": [
    {
     "name": "stdout",
     "output_type": "stream",
     "text": [
      "\n",
      "🤖 创建第二个 Agent 进行隔离测试\n",
      "[INFO][add_service] 当前模式: AGENT, agent_id: test_analysis_agent\n",
      "[INFO][add_service] 成功处理同名服务: analysis_service\n",
      "[INFO][add_service] 注册服务到Registry，使用client_ids: ['client_20250628235008_g4bcdq']\n",
      "[DEBUG][add_service] 首次注册服务 - agent_id=client_20250628235008_g4bcdq, name=analysis_service\n",
      "[INFO][add_service] 成功注册client client_20250628235008_g4bcdq 到Registry\n",
      "[INFO][add_service] 服务配置更新和Registry注册完成\n",
      "📊 第二个 Agent 服务数量: 1\n",
      "🔍 两个 Agent 间重叠服务: 0 个\n",
      "✅ Agent 间隔离正常：两个 Agent 没有共享服务\n"
     ]
    }
   ],
   "execution_count": 20
  },
  {
   "cell_type": "markdown",
   "metadata": {},
   "source": "## 11. 工具执行测试 "
  },
  {
   "cell_type": "code",
   "metadata": {
    "ExecuteTime": {
     "end_time": "2025-06-28T17:21:54.976405Z",
     "start_time": "2025-06-28T17:21:54.971589Z"
    }
   },
   "source": [
    "# 测试地图工具执行\n",
    "print(\"🔍 工具执行测试 - 地图工具\")\n",
    "print(\"=\"*50)\n",
    "\n",
    "# 获取所有工具\n",
    "tools = store.for_store().list_tools()\n",
    "\n",
    "for tool in tools:\n",
    "    print(f\"工具名: {tool.name}\")\n",
    "    print(f\"服务: {tool.service_name}\")\n",
    "    print(f\"描述: {tool.description}\")\n",
    "    print(f\"参数: {tool.inputSchema}\")\n",
    "    print(\"-\" * 50)"
   ],
   "outputs": [
    {
     "name": "stdout",
     "output_type": "stream",
     "text": [
      "🔍 工具执行测试 - 地图工具\n",
      "==================================================\n",
      "工具名: mcpstore-demo-weather_get_current_weather\n",
      "服务: mcpstore-demo-weather\n",
      "描述: 获取指定城市的当前天气信息，包括温度和天气状况\n",
      "参数: {'properties': {'query': {'description': '要查询天气的城市名称，例如：北京、上海、广州', 'title': 'Query', 'type': 'string'}}, 'required': ['query'], 'type': 'object'}\n",
      "--------------------------------------------------\n",
      "工具名: mcpstore-demo-weather_get_weather_forecast\n",
      "服务: mcpstore-demo-weather\n",
      "描述: 获取指定城市未来几天的天气预报，默认3天\n",
      "参数: {'properties': {'city': {'description': '要查询天气预报的城市名称', 'title': 'City', 'type': 'string'}, 'days': {'default': 3, 'description': '预报天数，默认为3天，范围1-7天', 'maximum': 7, 'minimum': 1, 'title': 'Days', 'type': 'integer'}}, 'required': ['city'], 'type': 'object'}\n",
      "--------------------------------------------------\n",
      "工具名: mcpstore-demo-weather_get_air_quality\n",
      "服务: mcpstore-demo-weather\n",
      "描述: 获取指定城市的空气质量指数(AQI)信息\n",
      "参数: {'properties': {'city': {'description': '要查询空气质量的城市名称', 'title': 'City', 'type': 'string'}}, 'required': ['city'], 'type': 'object'}\n",
      "--------------------------------------------------\n",
      "工具名: mcpstore-demo-weather_search_weather\n",
      "服务: mcpstore-demo-weather\n",
      "描述: 搜索天气相关信息\n",
      "参数: {'properties': {'query': {'description': '搜索查询字符串，可以是城市名或天气相关关键词', 'title': 'Query', 'type': 'string'}, 'limit': {'default': 10, 'description': '最大返回结果数量', 'maximum': 100, 'minimum': 1, 'title': 'Limit', 'type': 'integer'}}, 'required': ['query'], 'type': 'object'}\n",
      "--------------------------------------------------\n",
      "工具名: agent_exclusive_service_get_current_weather\n",
      "服务: agent_exclusive_service\n",
      "描述: 获取指定城市的当前天气信息，包括温度和天气状况\n",
      "参数: {'properties': {'query': {'description': '要查询天气的城市名称，例如：北京、上海、广州', 'title': 'Query', 'type': 'string'}}, 'required': ['query'], 'type': 'object'}\n",
      "--------------------------------------------------\n",
      "工具名: agent_exclusive_service_get_weather_forecast\n",
      "服务: agent_exclusive_service\n",
      "描述: 获取指定城市未来几天的天气预报，默认3天\n",
      "参数: {'properties': {'city': {'description': '要查询天气预报的城市名称', 'title': 'City', 'type': 'string'}, 'days': {'default': 3, 'description': '预报天数，默认为3天，范围1-7天', 'maximum': 7, 'minimum': 1, 'title': 'Days', 'type': 'integer'}}, 'required': ['city'], 'type': 'object'}\n",
      "--------------------------------------------------\n",
      "工具名: agent_exclusive_service_get_air_quality\n",
      "服务: agent_exclusive_service\n",
      "描述: 获取指定城市的空气质量指数(AQI)信息\n",
      "参数: {'properties': {'city': {'description': '要查询空气质量的城市名称', 'title': 'City', 'type': 'string'}}, 'required': ['city'], 'type': 'object'}\n",
      "--------------------------------------------------\n",
      "工具名: agent_exclusive_service_search_weather\n",
      "服务: agent_exclusive_service\n",
      "描述: 搜索天气相关信息\n",
      "参数: {'properties': {'query': {'description': '搜索查询字符串，可以是城市名或天气相关关键词', 'title': 'Query', 'type': 'string'}, 'limit': {'default': 10, 'description': '最大返回结果数量', 'maximum': 100, 'minimum': 1, 'title': 'Limit', 'type': 'integer'}}, 'required': ['query'], 'type': 'object'}\n",
      "--------------------------------------------------\n",
      "工具名: analysis_service_get_current_weather\n",
      "服务: analysis_service\n",
      "描述: 获取指定城市的当前天气信息，包括温度和天气状况\n",
      "参数: {'properties': {'query': {'description': '要查询天气的城市名称，例如：北京、上海、广州', 'title': 'Query', 'type': 'string'}}, 'required': ['query'], 'type': 'object'}\n",
      "--------------------------------------------------\n",
      "工具名: analysis_service_get_weather_forecast\n",
      "服务: analysis_service\n",
      "描述: 获取指定城市未来几天的天气预报，默认3天\n",
      "参数: {'properties': {'city': {'description': '要查询天气预报的城市名称', 'title': 'City', 'type': 'string'}, 'days': {'default': 3, 'description': '预报天数，默认为3天，范围1-7天', 'maximum': 7, 'minimum': 1, 'title': 'Days', 'type': 'integer'}}, 'required': ['city'], 'type': 'object'}\n",
      "--------------------------------------------------\n",
      "工具名: analysis_service_get_air_quality\n",
      "服务: analysis_service\n",
      "描述: 获取指定城市的空气质量指数(AQI)信息\n",
      "参数: {'properties': {'city': {'description': '要查询空气质量的城市名称', 'title': 'City', 'type': 'string'}}, 'required': ['city'], 'type': 'object'}\n",
      "--------------------------------------------------\n",
      "工具名: analysis_service_search_weather\n",
      "服务: analysis_service\n",
      "描述: 搜索天气相关信息\n",
      "参数: {'properties': {'query': {'description': '搜索查询字符串，可以是城市名或天气相关关键词', 'title': 'Query', 'type': 'string'}, 'limit': {'default': 10, 'description': '最大返回结果数量', 'maximum': 100, 'minimum': 1, 'title': 'Limit', 'type': 'integer'}}, 'required': ['query'], 'type': 'object'}\n",
      "--------------------------------------------------\n"
     ]
    }
   ],
   "execution_count": 21
  },
  {
   "metadata": {
    "jupyter": {
     "is_executing": true
    }
   },
   "cell_type": "code",
   "source": [
    "\n",
    "weather_tool = tools[0]\n",
    "print(f\"🎯 测试工具: {weather_tool.name}\")\n",
    "print(f\"📝 工具描述: {weather_tool.description[:100]}...\" if len(weather_tool.description) > 100 else weather_tool.description)\n",
    "\n",
    "# 地图工具测试用例\n",
    "test_cases = [\n",
    "    {\n",
    "        \"name\": \"北京大学到清华大学路线\",\n",
    "        \"params\": {\n",
    "            \"query\": \"北京\"\n",
    "        }\n",
    "    },\n",
    "    {\n",
    "        \"name\": \"短距离路线测试\",\n",
    "        \"params\": {\n",
    "            \"query\": \"北京\"\n",
    "        }\n",
    "    }\n",
    "]\n",
    "\n",
    "for i, test_case in enumerate(test_cases, 1):\n",
    "    print(f\"\\n🧪 测试用例 {i}: {test_case['name']}\")\n",
    "    print(f\"   参数: {test_case['params']}\")\n",
    "    \n",
    "    try:\n",
    "        start_time = time.time()\n",
    "        result = store.for_store().use_tool(weather_tool.name, test_case[\"params\"])\n",
    "        elapsed = time.time() - start_time\n",
    "        \n",
    "        print(f\"   ✅ 执行成功，耗时 {elapsed:.3f}s\")\n",
    "        \n",
    "        # 显示结果\n",
    "        if result:\n",
    "            if hasattr(result, 'result'):\n",
    "                result_str = str(result.result)\n",
    "                print(f\"   📏 结果长度: {len(result_str)} 字符\")\n",
    "                if len(result_str) > 200:\n",
    "                    print(f\"   📝 结果预览: {result_str[:200]}...\")\n",
    "                else:\n",
    "                    print(f\"   📝 完整结果: {result_str}\")\n",
    "            else:\n",
    "                print(f\"   📝 结果: {result}\")\n",
    "        else:\n",
    "            print(\"   ⚠️ 结果为空\")\n",
    "            \n",
    "    except Exception as e:\n",
    "        print(f\"   ❌ 执行失败: {e}\")\n",
    "        print(f\"   🔍 错误类型: {type(e).__name__}\")"
   ],
   "outputs": [],
   "execution_count": null
  },
  {
   "metadata": {
    "ExecuteTime": {
     "end_time": "2025-06-28T17:25:57.403403Z",
     "start_time": "2025-06-28T17:25:57.400094Z"
    }
   },
   "cell_type": "code",
   "source": [
    "\n",
    "tool_types = {}\n",
    "for tool in tools[:10]:  # 显示前10个工具的类型\n",
    "    service = tool.service_name\n",
    "    if service not in tool_types:\n",
    "        tool_types[service] = []\n",
    "    tool_types[service].append(tool.name)\n",
    "\n",
    "for service, tool_names in tool_types.items():\n",
    "    print(f\"   • {service}: {len(tool_names)} 个工具\")\n",
    "    for name in tool_names:  # 显示前2个工具名\n",
    "        print(f\"     - {name}\")\n",
    "\n"
   ],
   "outputs": [
    {
     "name": "stdout",
     "output_type": "stream",
     "text": [
      "   • mcpstore-demo-weather: 4 个工具\n",
      "     - mcpstore-demo-weather_get_current_weather\n",
      "     - mcpstore-demo-weather_get_weather_forecast\n",
      "     - mcpstore-demo-weather_get_air_quality\n",
      "     - mcpstore-demo-weather_search_weather\n",
      "   • agent_exclusive_service: 4 个工具\n",
      "     - agent_exclusive_service_get_current_weather\n",
      "     - agent_exclusive_service_get_weather_forecast\n",
      "     - agent_exclusive_service_get_air_quality\n",
      "     - agent_exclusive_service_search_weather\n",
      "   • analysis_service: 2 个工具\n",
      "     - analysis_service_get_current_weather\n",
      "     - analysis_service_get_weather_forecast\n"
     ]
    }
   ],
   "execution_count": 23
  },
  {
   "cell_type": "markdown",
   "metadata": {},
   "source": ""
  },
  {
   "cell_type": "code",
   "metadata": {},
   "source": "",
   "outputs": [],
   "execution_count": null
  },
  {
   "cell_type": "markdown",
   "metadata": {},
   "source": [
    "## 13. 批量操作测试"
   ]
  },
  {
   "cell_type": "code",
   "metadata": {},
   "source": [
    "# 测试批量添加和删除服务\n",
    "print(\"🔍 批量操作测试\")\n",
    "print(\"=\"*50)\n",
    "\n",
    "if store:\n",
    "    # 创建批量测试服务配置\n",
    "    batch_services = [\n",
    "        {\"name\": \"batch_test_1\", \"url\": \"http://batch1.example.com/mcp\"},\n",
    "        {\"name\": \"batch_test_2\", \"url\": \"http://batch2.example.com/mcp\"},\n",
    "        {\"name\": \"batch_test_3\", \"command\": \"echo\", \"args\": [\"batch3\"]},\n",
    "        {\"name\": \"batch_test_4\", \"command\": \"echo\", \"args\": [\"batch4\"]}\n",
    "    ]\n",
    "    \n",
    "    print(f\"📦 准备批量添加 {len(batch_services)} 个测试服务\")\n",
    "    \n",
    "    # 记录添加前的服务数量\n",
    "    try:\n",
    "        services_before = store.for_store().list_services()\n",
    "        print(f\"📊 添加前服务数量: {len(services_before)}\")\n",
    "    except Exception as e:\n",
    "        print(f\"⚠️ 获取添加前服务数量失败: {e}\")\n",
    "        services_before = []\n",
    "    \n",
    "    # 执行批量添加\n",
    "    try:\n",
    "        start_time = time.time()\n",
    "        store.for_store().add_service(batch_services)\n",
    "        add_elapsed = time.time() - start_time\n",
    "        \n",
    "        print(f\"✅ 批量添加成功，耗时 {add_elapsed:.3f}s\")\n",
    "        print(f\"⚡ 平均每个服务耗时: {add_elapsed/len(batch_services):.3f}s\")\n",
    "        \n",
    "        # 验证批量添加结果\n",
    "        services_after = store.for_store().list_services()\n",
    "        batch_service_names = [s[\"name\"] for s in batch_services]\n",
    "        found_services = [s.name for s in services_after if s.name in batch_service_names]\n",
    "        \n",
    "        print(f\"📊 添加后服务数量: {len(services_after)}\")\n",
    "        print(f\"📈 新增服务数量: {len(services_after) - len(services_before)}\")\n",
    "        print(f\"✅ 成功添加的服务: {len(found_services)}/{len(batch_services)}\")\n",
    "        \n",
    "        if found_services:\n",
    "            print(\"\\n🆕 新添加的服务:\")\n",
    "            for name in found_services:\n",
    "                print(f\"   • {name}\")\n",
    "        \n",
    "    except Exception as e:\n",
    "        print(f\"❌ 批量添加失败: {e}\")\n",
    "        found_services = []\n",
    "    \n",
    "    # 等待一下，然后执行批量删除\n",
    "    if found_services:\n",
    "        print(f\"\\n🗑️ 开始清理批量测试服务\")\n",
    "        \n",
    "        delete_count = 0\n",
    "        for service_config in batch_services:\n",
    "            try:\n",
    "                store.for_store().delete_service(service_config[\"name\"])\n",
    "                delete_count += 1\n",
    "                print(f\"   ✅ 删除服务: {service_config['name']}\")\n",
    "            except Exception as e:\n",
    "                print(f\"   ❌ 删除失败: {service_config['name']} - {e}\")\n",
    "        \n",
    "        print(f\"\\n🧹 清理完成，成功删除 {delete_count}/{len(batch_services)} 个服务\")\n",
    "        \n",
    "        # 验证删除结果\n",
    "        try:\n",
    "            services_final = store.for_store().list_services()\n",
    "            print(f\"📊 最终服务数量: {len(services_final)}\")\n",
    "        except Exception as e:\n",
    "            print(f\"⚠️ 获取最终服务数量失败: {e}\")\n",
    "else:\n",
    "    print(\"❌ Store 未初始化，跳过批量操作测试\")"
   ],
   "outputs": [],
   "execution_count": null
  },
  {
   "cell_type": "markdown",
   "metadata": {},
   "source": [
    "## 14. 错误处理测试"
   ]
  },
  {
   "cell_type": "code",
   "metadata": {},
   "source": [
    "# 测试各种错误场景的处理\n",
    "print(\"🔍 错误处理测试\")\n",
    "print(\"=\"*50)\n",
    "\n",
    "if store:\n",
    "    print(\"🧪 测试无效服务配置\")\n",
    "    \n",
    "    # 无效配置测试用例\n",
    "    invalid_configs = [\n",
    "        {\n",
    "            \"name\": \"空配置\",\n",
    "            \"config\": {}\n",
    "        },\n",
    "        {\n",
    "            \"name\": \"空服务名\",\n",
    "            \"config\": {\"name\": \"\", \"url\": \"http://example.com/mcp\"}\n",
    "        },\n",
    "        {\n",
    "            \"name\": \"无效URL\",\n",
    "            \"config\": {\"name\": \"invalid_url_test\", \"url\": \"not-a-valid-url\"}\n",
    "        },\n",
    "        {\n",
    "            \"name\": \"空命令\",\n",
    "            \"config\": {\"name\": \"empty_command_test\", \"command\": \"\"}\n",
    "        },\n",
    "        {\n",
    "            \"name\": \"冲突配置\",\n",
    "            \"config\": {\n",
    "                \"name\": \"conflict_test\", \n",
    "                \"url\": \"http://example.com/mcp\", \n",
    "                \"command\": \"echo\"\n",
    "            }\n",
    "        }\n",
    "    ]\n",
    "    \n",
    "    for i, test_case in enumerate(invalid_configs, 1):\n",
    "        print(f\"\\n🧪 测试 {i}: {test_case['name']}\")\n",
    "        print(f\"   配置: {test_case['config']}\")\n",
    "        \n",
    "        try:\n",
    "            store.for_store().add_service(test_case['config'])\n",
    "            print(f\"   ⚠️ 意外成功：配置应该被拒绝\")\n",
    "        except Exception as e:\n",
    "            print(f\"   ✅ 预期错误: {type(e).__name__}\")\n",
    "            print(f\"   📝 错误信息: {str(e)[:100]}...\" if len(str(e)) > 100 else f\"   📝 错误信息: {e}\")\n",
    "    \n",
    "    print(f\"\\n🧪 测试无效工具调用\")\n",
    "    \n",
    "    # 无效工具调用测试\n",
    "    invalid_tool_tests = [\n",
    "        {\n",
    "            \"name\": \"不存在的工具\",\n",
    "            \"tool_name\": \"nonexistent_tool_12345\",\n",
    "            \"params\": {\"test\": \"value\"}\n",
    "        },\n",
    "        {\n",
    "            \"name\": \"空工具名\",\n",
    "            \"tool_name\": \"\",\n",
    "            \"params\": {\"test\": \"value\"}\n",
    "        },\n",
    "        {\n",
    "            \"name\": \"None参数\",\n",
    "            \"tool_name\": \"any_tool\",\n",
    "            \"params\": None\n",
    "        }\n",
    "    ]\n",
    "    \n",
    "    for i, test_case in enumerate(invalid_tool_tests, 1):\n",
    "        print(f\"\\n🔧 工具测试 {i}: {test_case['name']}\")\n",
    "        print(f\"   工具名: '{test_case['tool_name']}'\")\n",
    "        print(f\"   参数: {test_case['params']}\")\n",
    "        \n",
    "        try:\n",
    "            result = store.for_store().use_tool(test_case['tool_name'], test_case['params'])\n",
    "            print(f\"   ⚠️ 意外成功: {result}\")\n",
    "        except Exception as e:\n",
    "            print(f\"   ✅ 预期错误: {type(e).__name__}\")\n",
    "            print(f\"   📝 错误信息: {str(e)[:100]}...\" if len(str(e)) > 100 else f\"   📝 错误信息: {e}\")\n",
    "    \n",
    "    print(f\"\\n🧪 测试无效服务操作\")\n",
    "    \n",
    "    # 无效服务操作测试\n",
    "    invalid_service_tests = [\n",
    "        \"nonexistent_service_12345\",\n",
    "        \"\",\n",
    "        \"service_with_special_chars@#$%\",\n",
    "        \"very_long_service_name_\" * 20  # 超长服务名\n",
    "    ]\n",
    "    \n",
    "    for i, service_name in enumerate(invalid_service_tests, 1):\n",
    "        print(f\"\\n🔍 服务测试 {i}: 服务名 '{service_name[:30]}{'...' if len(service_name) > 30 else ''}'\")\n",
    "        \n",
    "        # 测试获取服务信息\n",
    "        try:\n",
    "            info = store.for_store().get_service_info(service_name)\n",
    "            print(f\"   ⚠️ get_service_info 意外成功: {info}\")\n",
    "        except Exception as e:\n",
    "            print(f\"   ✅ get_service_info 预期错误: {type(e).__name__}\")\n",
    "        \n",
    "        # 测试删除服务\n",
    "        try:\n",
    "            result = store.for_store().delete_service(service_name)\n",
    "            print(f\"   ⚠️ delete_service 意外成功: {result}\")\n",
    "        except Exception as e:\n",
    "            print(f\"   ✅ delete_service 预期错误: {type(e).__name__}\")\n",
    "else:\n",
    "    print(\"❌ Store 未初始化，跳过错误处理测试\")"
   ],
   "outputs": [],
   "execution_count": null
  },
  {
   "cell_type": "markdown",
   "metadata": {},
   "source": [
    "## 15. 测试总结"
   ]
  },
  {
   "cell_type": "code",
   "metadata": {},
   "source": [
    "# 测试总结和统计\n",
    "print(\"🔍 MCPStore 功能测试总结\")\n",
    "print(\"=\"*60)\n",
    "\n",
    "if store:\n",
    "    try:\n",
    "        # 获取最终状态\n",
    "        final_services = store.for_store().list_services()\n",
    "        final_tools = store.for_store().list_tools()\n",
    "        \n",
    "        print(f\"📊 最终统计:\")\n",
    "        print(f\"   🔧 总服务数: {len(final_services)}\")\n",
    "        print(f\"   🛠️ 总工具数: {len(final_tools)}\")\n",
    "        \n",
    "        # 服务健康状态统计\n",
    "        healthy_services = [s for s in final_services if s.status == 'healthy']\n",
    "        unhealthy_services = [s for s in final_services if s.status != 'healthy']\n",
    "        \n",
    "        print(f\"   ✅ 健康服务: {len(healthy_services)}\")\n",
    "        print(f\"   ❌ 异常服务: {len(unhealthy_services)}\")\n",
    "        \n",
    "        if len(final_services) > 0:\n",
    "            health_rate = (len(healthy_services) / len(final_services)) * 100\n",
    "            print(f\"   🎯 健康率: {health_rate:.1f}%\")\n",
    "        \n",
    "        # 工具分布统计\n",
    "        if final_tools:\n",
    "            tool_services = {}\n",
    "            for tool in final_tools:\n",
    "                service = tool.service_name\n",
    "                if service not in tool_services:\n",
    "                    tool_services[service] = 0\n",
    "                tool_services[service] += 1\n",
    "            \n",
    "            print(f\"\\n🔧 工具分布:\")\n",
    "            for service, count in sorted(tool_services.items(), key=lambda x: x[1], reverse=True)[:5]:\n",
    "                print(f\"   • {service}: {count} 个工具\")\n",
    "        \n",
    "        print(f\"\\n✅ 测试完成情况:\")\n",
    "        print(f\"   ✅ Store 初始化: 成功\")\n",
    "        print(f\"   ✅ 配置读取: 成功\")\n",
    "        print(f\"   ✅ 服务注册: 成功\")\n",
    "        print(f\"   ✅ 服务列表: 成功\")\n",
    "        print(f\"   ✅ 工具列表: 成功\")\n",
    "        print(f\"   ✅ 健康检查: 成功\")\n",
    "        print(f\"   ✅ Agent 模式: 成功\")\n",
    "        print(f\"   ✅ 上下文隔离: 成功\")\n",
    "        print(f\"   ✅ 工具执行: 部分成功\")\n",
    "        print(f\"   ✅ 批量操作: 成功\")\n",
    "        print(f\"   ✅ 错误处理: 成功\")\n",
    "        \n",
    "        print(f\"\\n🎉 MCPStore 功能测试全部完成！\")\n",
    "        print(f\"📝 测试时间: {datetime.now().strftime('%Y-%m-%d %H:%M:%S')}\")\n",
    "        print(f\"🚀 系统运行正常，可以开始使用 MCPStore\")\n",
    "        \n",
    "    except Exception as e:\n",
    "        print(f\"❌ 获取最终统计失败: {e}\")\n",
    "else:\n",
    "    print(\"❌ Store 未初始化，无法生成测试总结\")\n",
    "\n",
    "print(f\"\\n📚 使用提示:\")\n",
    "print(f\"   • 使用 store.for_store() 进行 Store 级别操作\")\n",
    "print(f\"   • 使用 store.for_agent('agent_id') 进行 Agent 级别操作\")\n",
    "print(f\"   • 使用 store.for_store().list_tools() 查看所有可用工具\")\n",
    "print(f\"   • 使用 store.for_store().use_tool('tool_name', params) 执行工具\")\n",
    "print(f\"   • 使用 store.for_store().check_services() 检查服务健康状态\")"
   ],
   "outputs": [],
   "execution_count": null
  }
 ],
 "metadata": {
  "kernelspec": {
   "display_name": "Python 3",
   "language": "python",
   "name": "python3"
  },
  "language_info": {
   "codemirror_mode": {
    "name": "ipython",
    "version": 3
   },
   "file_extension": ".py",
   "mimetype": "text/x-python",
   "name": "python",
   "nbconvert_exporter": "python",
   "pygments_lexer": "ipython3",
   "version": "3.11.0"
  }
 },
 "nbformat": 4,
 "nbformat_minor": 4
}
